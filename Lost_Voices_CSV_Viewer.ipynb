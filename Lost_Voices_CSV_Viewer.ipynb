{
  "nbformat": 4,
  "nbformat_minor": 0,
  "metadata": {
    "kernelspec": {
      "display_name": "Python 3",
      "language": "python",
      "name": "python3"
    },
    "language_info": {
      "codemirror_mode": {
        "name": "ipython",
        "version": 3
      },
      "file_extension": ".py",
      "mimetype": "text/x-python",
      "name": "python",
      "nbconvert_exporter": "python",
      "pygments_lexer": "ipython3",
      "version": "3.7.4"
    },
    "colab": {
      "name": "Lost_Voices_CSV_Viewers_11_20_2020.ipynb",
      "provenance": [],
      "collapsed_sections": []
    }
  },
  "cells": [
    {
      "cell_type": "markdown",
      "metadata": {
        "id": "d11L2LyyBEG3"
      },
      "source": [
        "# Pandas for Lost Voices CSV\n"
      ]
    },
    {
      "cell_type": "markdown",
      "metadata": {
        "id": "cDL2dspQBEG4"
      },
      "source": [
        "## Import the Tools"
      ]
    },
    {
      "cell_type": "code",
      "metadata": {
        "id": "BEm7Z7MjBEG5"
      },
      "source": [
        "import pandas as pd\n",
        "import matplotlib.pyplot as plt\n",
        "%matplotlib inline\n",
        "import seaborn as sns\n",
        "\n"
      ],
      "execution_count": null,
      "outputs": []
    },
    {
      "cell_type": "markdown",
      "metadata": {
        "id": "PnNWQx5MBEG8"
      },
      "source": [
        "## Import the CSV Created by Lost Voices\n",
        "\n",
        "- CSV files can be uploaded from your computer.\n"
      ]
    },
    {
      "cell_type": "code",
      "metadata": {
        "id": "XMdFkj9kjoX8",
        "colab": {
          "resources": {
            "http://localhost:8080/nbextensions/google.colab/files.js": {
              "data": "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",
              "ok": true,
              "headers": [
                [
                  "content-type",
                  "application/javascript"
                ]
              ],
              "status": 200,
              "status_text": ""
            }
          },
          "base_uri": "https://localhost:8080/",
          "height": 72
        },
        "outputId": "288b201c-f7d4-4ecc-d152-2fa1d0a8de78"
      },
      "source": [
        "\n",
        "from google.colab import files\n",
        "uploaded = files.upload()"
      ],
      "execution_count": null,
      "outputs": [
        {
          "output_type": "display_data",
          "data": {
            "text/html": [
              "\n",
              "     <input type=\"file\" id=\"files-c90e4f9b-d488-4085-b303-8c08b2399828\" name=\"files[]\" multiple disabled\n",
              "        style=\"border:none\" />\n",
              "     <output id=\"result-c90e4f9b-d488-4085-b303-8c08b2399828\">\n",
              "      Upload widget is only available when the cell has been executed in the\n",
              "      current browser session. Please rerun this cell to enable.\n",
              "      </output>\n",
              "      <script src=\"/nbextensions/google.colab/files.js\"></script> "
            ],
            "text/plain": [
              "<IPython.core.display.HTML object>"
            ]
          },
          "metadata": {
            "tags": []
          }
        },
        {
          "output_type": "stream",
          "text": [
            "Saving Du Chemin Production Data - Similar_Cadences.csv to Du Chemin Production Data - Similar_Cadences (1).csv\n"
          ],
          "name": "stdout"
        }
      ]
    },
    {
      "cell_type": "code",
      "metadata": {
        "id": "mYrv0sJfkGBV",
        "colab": {
          "base_uri": "https://localhost:8080/"
        },
        "outputId": "84c4cc9a-a611-4201-ac93-f8d7b28ab9b1"
      },
      "source": [
        "## Check the directory where your uploaded file is stored\n",
        "!pwd\n",
        "!ls\n",
        "#!rm Collab_d"
      ],
      "execution_count": null,
      "outputs": [
        {
          "output_type": "stream",
          "text": [
            "/content\n",
            "'Du Chemin Production Data - Similar_Cadences.csv'   sample_data\n"
          ],
          "name": "stdout"
        }
      ]
    },
    {
      "cell_type": "markdown",
      "metadata": {
        "id": "pon93RXdlPaF"
      },
      "source": [
        "## Name the Important File as a DataSet\n",
        "- Give the imported file a simple name to be used in the subsequent analysis and visualization.  For instance `Data_Name =`\n",
        "- Pandas will read the csv, but be sure to check the path and file name: `pd.read_csv('/content/Stras_Brumel_Exact_V5_P4.csv')`"
      ]
    },
    {
      "cell_type": "code",
      "metadata": {
        "id": "wQvVRtvKBEG9"
      },
      "source": [
        "df = pd.read_csv ('/content/Du Chemin Production Data - Similar_Cadences.csv')"
      ],
      "execution_count": null,
      "outputs": []
    },
    {
      "cell_type": "markdown",
      "metadata": {
        "id": "-mRdcOJSBEG_"
      },
      "source": [
        "## Inspect It \n",
        "- The `.head(n)` allows you to check the columns and contents.  `n` determines the number of rows in the preview."
      ]
    },
    {
      "cell_type": "code",
      "metadata": {
        "id": "-qQLaAW_BEHA",
        "colab": {
          "base_uri": "https://localhost:8080/",
          "height": 394
        },
        "outputId": "2003011f-02da-4734-aaab-3afb5f179455"
      },
      "source": [
        "df.head(5)"
      ],
      "execution_count": null,
      "outputs": [
        {
          "output_type": "execute_result",
          "data": {
            "text/html": [
              "<div>\n",
              "<style scoped>\n",
              "    .dataframe tbody tr th:only-of-type {\n",
              "        vertical-align: middle;\n",
              "    }\n",
              "\n",
              "    .dataframe tbody tr th {\n",
              "        vertical-align: top;\n",
              "    }\n",
              "\n",
              "    .dataframe thead th {\n",
              "        text-align: right;\n",
              "    }\n",
              "</style>\n",
              "<table border=\"1\" class=\"dataframe\">\n",
              "  <thead>\n",
              "    <tr style=\"text-align: right;\">\n",
              "      <th></th>\n",
              "      <th>phrase_number</th>\n",
              "      <th>composition_number</th>\n",
              "      <th>cadence_role_cantz</th>\n",
              "      <th>cadence_alter</th>\n",
              "      <th>cadence_final_tone</th>\n",
              "      <th>cadence_role_tenz</th>\n",
              "      <th>cadence_kind</th>\n",
              "      <th>cadence_final_tone_before</th>\n",
              "      <th>cadence_final_tone_after</th>\n",
              "      <th>cadence_kind_before</th>\n",
              "      <th>cadence_kind_after</th>\n",
              "      <th>final_cadence</th>\n",
              "    </tr>\n",
              "  </thead>\n",
              "  <tbody>\n",
              "    <tr>\n",
              "      <th>0</th>\n",
              "      <td>DC0625.8: Dont nous serons plus contentz qu'eulx.</td>\n",
              "      <td>DC0625: Si je n'avois de fermeté</td>\n",
              "      <td>S</td>\n",
              "      <td>NaN</td>\n",
              "      <td>G</td>\n",
              "      <td>T</td>\n",
              "      <td>Authentic</td>\n",
              "      <td>A</td>\n",
              "      <td>None</td>\n",
              "      <td>Authentic</td>\n",
              "      <td>None</td>\n",
              "      <td>G</td>\n",
              "    </tr>\n",
              "    <tr>\n",
              "      <th>1</th>\n",
              "      <td>DC0625.6: Ami perfaict plus que les dieux,</td>\n",
              "      <td>DC0625: Si je n'avois de fermeté</td>\n",
              "      <td>S</td>\n",
              "      <td>NaN</td>\n",
              "      <td>A</td>\n",
              "      <td>T</td>\n",
              "      <td>Authentic</td>\n",
              "      <td>D</td>\n",
              "      <td>G</td>\n",
              "      <td>Plagal</td>\n",
              "      <td>Authentic</td>\n",
              "      <td>G</td>\n",
              "    </tr>\n",
              "    <tr>\n",
              "      <th>2</th>\n",
              "      <td>DC0625.5: Mais ne fault point que doubte on face,</td>\n",
              "      <td>DC0625: Si je n'avois de fermeté</td>\n",
              "      <td>None</td>\n",
              "      <td>NaN</td>\n",
              "      <td>D</td>\n",
              "      <td>None</td>\n",
              "      <td>Plagal</td>\n",
              "      <td>G</td>\n",
              "      <td>A</td>\n",
              "      <td>Authentic</td>\n",
              "      <td>Authentic</td>\n",
              "      <td>G</td>\n",
              "    </tr>\n",
              "    <tr>\n",
              "      <th>3</th>\n",
              "      <td>DC0625.2: Non plus que j'ay de bonne grace,</td>\n",
              "      <td>DC0625: Si je n'avois de fermeté</td>\n",
              "      <td>S</td>\n",
              "      <td>NaN</td>\n",
              "      <td>G</td>\n",
              "      <td>T</td>\n",
              "      <td>Authentic</td>\n",
              "      <td>C</td>\n",
              "      <td>D</td>\n",
              "      <td>Authentic</td>\n",
              "      <td>Plagal</td>\n",
              "      <td>G</td>\n",
              "    </tr>\n",
              "    <tr>\n",
              "      <th>4</th>\n",
              "      <td>DC0625.1: Si je n'avois de fermeté,</td>\n",
              "      <td>DC0625: Si je n'avois de fermeté</td>\n",
              "      <td>T</td>\n",
              "      <td>Displaced, Inverted, Evaded</td>\n",
              "      <td>C</td>\n",
              "      <td>Ct</td>\n",
              "      <td>Authentic</td>\n",
              "      <td>None</td>\n",
              "      <td>G</td>\n",
              "      <td>None</td>\n",
              "      <td>Authentic</td>\n",
              "      <td>G</td>\n",
              "    </tr>\n",
              "  </tbody>\n",
              "</table>\n",
              "</div>"
            ],
            "text/plain": [
              "                                       phrase_number  ... final_cadence\n",
              "0  DC0625.8: Dont nous serons plus contentz qu'eulx.  ...             G\n",
              "1         DC0625.6: Ami perfaict plus que les dieux,  ...             G\n",
              "2  DC0625.5: Mais ne fault point que doubte on face,  ...             G\n",
              "3        DC0625.2: Non plus que j'ay de bonne grace,  ...             G\n",
              "4                DC0625.1: Si je n'avois de fermeté,  ...             G\n",
              "\n",
              "[5 rows x 12 columns]"
            ]
          },
          "metadata": {
            "tags": []
          },
          "execution_count": 22
        }
      ]
    },
    {
      "cell_type": "markdown",
      "metadata": {
        "id": "KDt5y57gBEHC"
      },
      "source": [
        "## Get Basic Information\n",
        "- Another overview with `.info()` provides the total dimensions (rows + columns), plus the column names."
      ]
    },
    {
      "cell_type": "code",
      "metadata": {
        "id": "iESZ3TglBEHD",
        "colab": {
          "base_uri": "https://localhost:8080/"
        },
        "outputId": "cde0cd05-7cb0-4ead-9dac-3c2b32802e4d"
      },
      "source": [
        "df.info()"
      ],
      "execution_count": null,
      "outputs": [
        {
          "output_type": "stream",
          "text": [
            "<class 'pandas.core.frame.DataFrame'>\n",
            "RangeIndex: 1195 entries, 0 to 1194\n",
            "Data columns (total 12 columns):\n",
            " #   Column                     Non-Null Count  Dtype \n",
            "---  ------                     --------------  ----- \n",
            " 0   phrase_number              1195 non-null   object\n",
            " 1   composition_number         1195 non-null   object\n",
            " 2   cadence_role_cantz         1168 non-null   object\n",
            " 3   cadence_alter              753 non-null    object\n",
            " 4   cadence_final_tone         1195 non-null   object\n",
            " 5   cadence_role_tenz          1168 non-null   object\n",
            " 6   cadence_kind               1195 non-null   object\n",
            " 7   cadence_final_tone_before  1195 non-null   object\n",
            " 8   cadence_final_tone_after   1195 non-null   object\n",
            " 9   cadence_kind_before        1195 non-null   object\n",
            " 10  cadence_kind_after         1195 non-null   object\n",
            " 11  final_cadence              1195 non-null   object\n",
            "dtypes: object(12)\n",
            "memory usage: 112.2+ KB\n"
          ],
          "name": "stdout"
        }
      ]
    },
    {
      "cell_type": "markdown",
      "metadata": {
        "id": "bC0kUzHmBEHF"
      },
      "source": [
        "## Get \"Counts\" for Values of a Particular Column\n",
        "- For any column in the data_set, `['Column_Name']` in the code below, like `data_set_name['Column_Name'].value_counts()`\n",
        "\n"
      ]
    },
    {
      "cell_type": "code",
      "metadata": {
        "id": "uT1trXxBBEHF",
        "colab": {
          "base_uri": "https://localhost:8080/"
        },
        "outputId": "d9174041-a9ac-42b8-e7c4-89f40d3fd8da"
      },
      "source": [
        "df['cadence_final_tone'].value_counts()\n"
      ],
      "execution_count": null,
      "outputs": [
        {
          "output_type": "execute_result",
          "data": {
            "text/plain": [
              "G         305\n",
              "D         277\n",
              "C         191\n",
              "F         166\n",
              "A         140\n",
              "B-flat     83\n",
              "E          31\n",
              "None        2\n",
              "Name: cadence_final_tone, dtype: int64"
            ]
          },
          "metadata": {
            "tags": []
          },
          "execution_count": 24
        }
      ]
    },
    {
      "cell_type": "markdown",
      "metadata": {
        "id": "NbfXhQMvBEHI"
      },
      "source": [
        "## Plot Values as Histogram\n",
        "\n",
        "Now using the matlib plotly resource, we can visualize in various formats\n",
        "In the code below:\n",
        "- `(fisgsize=(16,6))` determines the size of the image (w,h)\n",
        "- `data=name` = name given the imported file above\n",
        "- `x='column_name'` is the column to use for the X axis\n",
        "- `hue='column_name` is the column to use for the colors (and key)\n"
      ]
    },
    {
      "cell_type": "code",
      "metadata": {
        "id": "3NZneB-WBEHI",
        "colab": {
          "base_uri": "https://localhost:8080/",
          "height": 316
        },
        "outputId": "9ba203a5-090d-4756-9e1f-d191c1022266"
      },
      "source": [
        "plt.figure(figsize=(24,6))\n",
        "sns.countplot(x='cadence_final_tone',data=df, hue='cadence_kind');"
      ],
      "execution_count": null,
      "outputs": [
        {
          "output_type": "display_data",
          "data": {
            "image/png": "[encoded data removed]",
            "text/plain": [
              "<Figure size 1728x432 with 1 Axes>"
            ]
          },
          "metadata": {
            "tags": [],
            "needs_background": "light"
          }
        }
      ]
    },
    {
      "cell_type": "markdown",
      "metadata": {
        "id": "Xi9FheeDBEHK"
      },
      "source": [
        "## Get Data for an Individual Value with a Column\n",
        "- For example:  a particular Piece within `Piece_Title`\n",
        "- By default Pandas will display just the first and last five rows of the result.\n",
        "- To show show more (or less), add: `pd.set_option(\"max_rows\", None)`.  Note that in this case `None` means \"no maximium, or ALL.\""
      ]
    },
    {
      "cell_type": "markdown",
      "metadata": {
        "id": "WsVa47qaBEHN"
      },
      "source": [
        "## Sort Data According to Selected Columns\n",
        "- We can also put data in order (ascending/descending) by one more more columns.\n",
        "- Giving this sorted version a new name will allow us to export or display it in this state."
      ]
    },
    {
      "cell_type": "code",
      "metadata": {
        "scrolled": true,
        "id": "sF0k_XybBEHN",
        "colab": {
          "base_uri": "https://localhost:8080/",
          "height": 445
        },
        "outputId": "a78cb035-175c-47df-de38-e9b590a4223b"
      },
      "source": [
        "df.sort_values(['cadence_final_tone','cadence_kind'])\n",
        "Sorted = df.sort_values(['cadence_final_tone','cadence_kind'])\n",
        "Sorted.head()"
      ],
      "execution_count": null,
      "outputs": [
        {
          "output_type": "execute_result",
          "data": {
            "text/html": [
              "<div>\n",
              "<style scoped>\n",
              "    .dataframe tbody tr th:only-of-type {\n",
              "        vertical-align: middle;\n",
              "    }\n",
              "\n",
              "    .dataframe tbody tr th {\n",
              "        vertical-align: top;\n",
              "    }\n",
              "\n",
              "    .dataframe thead th {\n",
              "        text-align: right;\n",
              "    }\n",
              "</style>\n",
              "<table border=\"1\" class=\"dataframe\">\n",
              "  <thead>\n",
              "    <tr style=\"text-align: right;\">\n",
              "      <th></th>\n",
              "      <th>phrase_number</th>\n",
              "      <th>composition_number</th>\n",
              "      <th>cadence_role_cantz</th>\n",
              "      <th>cadence_alter</th>\n",
              "      <th>cadence_final_tone</th>\n",
              "      <th>cadence_role_tenz</th>\n",
              "      <th>cadence_kind</th>\n",
              "      <th>cadence_final_tone_before</th>\n",
              "      <th>cadence_final_tone_after</th>\n",
              "      <th>cadence_kind_before</th>\n",
              "      <th>cadence_kind_after</th>\n",
              "      <th>final_cadence</th>\n",
              "    </tr>\n",
              "  </thead>\n",
              "  <tbody>\n",
              "    <tr>\n",
              "      <th>1</th>\n",
              "      <td>DC0625.6: Ami perfaict plus que les dieux,</td>\n",
              "      <td>DC0625: Si je n'avois de fermeté</td>\n",
              "      <td>S</td>\n",
              "      <td>NaN</td>\n",
              "      <td>A</td>\n",
              "      <td>T</td>\n",
              "      <td>Authentic</td>\n",
              "      <td>D</td>\n",
              "      <td>G</td>\n",
              "      <td>Plagal</td>\n",
              "      <td>Authentic</td>\n",
              "      <td>G</td>\n",
              "    </tr>\n",
              "    <tr>\n",
              "      <th>40</th>\n",
              "      <td>DC0615.6: Ne me chault d'acquerir leurs graces,</td>\n",
              "      <td>DC0615: N'ayez plus peur, mary jaloux</td>\n",
              "      <td>S</td>\n",
              "      <td>NaN</td>\n",
              "      <td>A</td>\n",
              "      <td>T</td>\n",
              "      <td>Authentic</td>\n",
              "      <td>F</td>\n",
              "      <td>C</td>\n",
              "      <td>Authentic</td>\n",
              "      <td>Authentic</td>\n",
              "      <td>F</td>\n",
              "    </tr>\n",
              "    <tr>\n",
              "      <th>87</th>\n",
              "      <td>DC0604.7: Mais s'advenu m'estoit par ignorance,</td>\n",
              "      <td>DC0604: Où est ce temps, dictes, mademoiselle</td>\n",
              "      <td>S</td>\n",
              "      <td>Evaded</td>\n",
              "      <td>A</td>\n",
              "      <td>T</td>\n",
              "      <td>Authentic</td>\n",
              "      <td>D</td>\n",
              "      <td>G</td>\n",
              "      <td>Plagal</td>\n",
              "      <td>Authentic</td>\n",
              "      <td>G</td>\n",
              "    </tr>\n",
              "    <tr>\n",
              "      <th>93</th>\n",
              "      <td>DC0603.8: Dont ja commence à m’ennuyer ma vie,</td>\n",
              "      <td>DC0603: Or à ce jour le verd may se termine</td>\n",
              "      <td>S</td>\n",
              "      <td>NaN</td>\n",
              "      <td>A</td>\n",
              "      <td>T</td>\n",
              "      <td>Authentic</td>\n",
              "      <td>D</td>\n",
              "      <td>A</td>\n",
              "      <td>Authentic</td>\n",
              "      <td>Authentic</td>\n",
              "      <td>D</td>\n",
              "    </tr>\n",
              "    <tr>\n",
              "      <th>97</th>\n",
              "      <td>DC0603.3: Las est à moy tout mon verd si se fine,</td>\n",
              "      <td>DC0603: Or à ce jour le verd may se termine</td>\n",
              "      <td>T</td>\n",
              "      <td>Displaced, Inverted, Evaded</td>\n",
              "      <td>A</td>\n",
              "      <td>Ct</td>\n",
              "      <td>Authentic</td>\n",
              "      <td>A</td>\n",
              "      <td>A</td>\n",
              "      <td>Plagal</td>\n",
              "      <td>Plagal</td>\n",
              "      <td>D</td>\n",
              "    </tr>\n",
              "  </tbody>\n",
              "</table>\n",
              "</div>"
            ],
            "text/plain": [
              "                                        phrase_number  ... final_cadence\n",
              "1          DC0625.6: Ami perfaict plus que les dieux,  ...             G\n",
              "40    DC0615.6: Ne me chault d'acquerir leurs graces,  ...             F\n",
              "87    DC0604.7: Mais s'advenu m'estoit par ignorance,  ...             G\n",
              "93     DC0603.8: Dont ja commence à m’ennuyer ma vie,  ...             D\n",
              "97  DC0603.3: Las est à moy tout mon verd si se fine,  ...             D\n",
              "\n",
              "[5 rows x 12 columns]"
            ]
          },
          "metadata": {
            "tags": []
          },
          "execution_count": 10
        }
      ]
    },
    {
      "cell_type": "markdown",
      "metadata": {
        "id": "iE5X72bHx0NY"
      },
      "source": [
        "## Seaborn Plots\n",
        "- An extension of the MatPlot library, Seaborn provides various views of the data using three 'dimensions' of information for position and color.\n",
        "- See samples: https://seaborn.pydata.org/examples/index.html\n",
        "- This is a 'swarmplot', `data=Heth` determines the data to use, `y=\"Pattern_Matched\"` determines y axis, `x=\"First_Note_Measure_Number\"` determines x axis, and `hue=\"Part\"` determines color and key."
      ]
    },
    {
      "cell_type": "code",
      "metadata": {
        "id": "vhGAvOrJBEHV",
        "colab": {
          "base_uri": "https://localhost:8080/",
          "height": 419
        },
        "outputId": "bd4524dd-abad-4203-e71b-91c20de17eaa"
      },
      "source": [
        "# Draw a categorical scatterplot to show each observation\n",
        "# The problem here is that there are too many data points to display properly with swarmplot for Du Chemin Cadences\n",
        "plt.figure(figsize=(16,4))\n",
        "ax = sns.swarmplot(data=df, y=\"cadence_final_tone\", x=\"cadence_kind\", hue=\"cadence_role_tenz\");\n",
        "ax.set(ylabel=\"\")"
      ],
      "execution_count": null,
      "outputs": [
        {
          "output_type": "stream",
          "text": [
            "/usr/local/lib/python3.6/dist-packages/seaborn/categorical.py:1296: UserWarning: 81.2% of the points cannot be placed; you may want to decrease the size of the markers or use stripplot.\n",
            "  warnings.warn(msg, UserWarning)\n",
            "/usr/local/lib/python3.6/dist-packages/seaborn/categorical.py:1296: UserWarning: 18.9% of the points cannot be placed; you may want to decrease the size of the markers or use stripplot.\n",
            "  warnings.warn(msg, UserWarning)\n",
            "/usr/local/lib/python3.6/dist-packages/seaborn/categorical.py:1296: UserWarning: 26.5% of the points cannot be placed; you may want to decrease the size of the markers or use stripplot.\n",
            "  warnings.warn(msg, UserWarning)\n"
          ],
          "name": "stderr"
        },
        {
          "output_type": "execute_result",
          "data": {
            "text/plain": [
              "[Text(0, 0.5, '')]"
            ]
          },
          "metadata": {
            "tags": []
          },
          "execution_count": 11
        },
        {
          "output_type": "display_data",
          "data": {
            "image/png": "[encoded data removed]",
            "text/plain": [
              "<Figure size 1152x288 with 1 Axes>"
            ]
          },
          "metadata": {
            "tags": [],
            "needs_background": "light"
          }
        }
      ]
    },
    {
      "cell_type": "code",
      "metadata": {
        "colab": {
          "base_uri": "https://localhost:8080/",
          "height": 265
        },
        "id": "_0uDCqJXAiVl",
        "outputId": "1e11a432-f43a-4009-fd80-3242cce59294"
      },
      "source": [
        "#Strip Plot manages the Du Chemin Cadence Data OK\n",
        "# X plots the Last Cadence of the Piece\n",
        "\n",
        "plt.figure(figsize=(24,4))\n",
        "p = sns.stripplot(data=df,\n",
        "                  x='final_cadence',\n",
        "                  y='cadence_final_tone',\n",
        "                  hue='cadence_kind',\n",
        "                  jitter=.25,\n",
        "                  dodge=True)"
      ],
      "execution_count": null,
      "outputs": [
        {
          "output_type": "display_data",
          "data": {
            "image/png": "[encoded data removed]",
            "text/plain": [
              "<Figure size 1728x288 with 1 Axes>"
            ]
          },
          "metadata": {
            "tags": [],
            "needs_background": "light"
          }
        }
      ]
    },
    {
      "cell_type": "code",
      "metadata": {
        "colab": {
          "base_uri": "https://localhost:8080/",
          "height": 389
        },
        "id": "8tdRdyEvTInk",
        "outputId": "b87766c9-02ae-4bc0-b07c-f9fa5dfc8131"
      },
      "source": [
        "plt.figure(figsize=(20,6))\n",
        "ax = sns.stripplot(x=\"final_cadence\", y=\"cadence_final_tone\", hue=\"cadence_kind\",\n",
        "                   data=df, palette=\"Set2\", dodge=True)"
      ],
      "execution_count": null,
      "outputs": [
        {
          "output_type": "display_data",
          "data": {
            "image/png": "[encoded data removed]",
            "text/plain": [
              "<Figure size 1440x432 with 1 Axes>"
            ]
          },
          "metadata": {
            "tags": [],
            "needs_background": "light"
          }
        }
      ]
    },
    {
      "cell_type": "markdown",
      "metadata": {
        "id": "xApGzF5VBU9y"
      },
      "source": [
        "# Grouping"
      ]
    },
    {
      "cell_type": "code",
      "metadata": {
        "id": "-XzWjf95BEHc",
        "colab": {
          "base_uri": "https://localhost:8080/",
          "height": 796
        },
        "outputId": "671d461b-6f68-4887-c404-c7242dca7cd1"
      },
      "source": [
        "grouped = df.groupby(['cadence_final_tone', 'final_cadence'])\n",
        "#grouped.describe()\n",
        "gb = df.groupby(\"final_cadence\")\n",
        "gb.count() # or,\n",
        "grouped.head()\n",
        "#pd.DataFrame(grouped)\n",
        "#DF_output = pd.DataFrame(grouped)\n",
        "#DF_output.to_csv(\"grouped_test.csv\")"
      ],
      "execution_count": null,
      "outputs": [
        {
          "output_type": "execute_result",
          "data": {
            "text/html": [
              "<div>\n",
              "<style scoped>\n",
              "    .dataframe tbody tr th:only-of-type {\n",
              "        vertical-align: middle;\n",
              "    }\n",
              "\n",
              "    .dataframe tbody tr th {\n",
              "        vertical-align: top;\n",
              "    }\n",
              "\n",
              "    .dataframe thead th {\n",
              "        text-align: right;\n",
              "    }\n",
              "</style>\n",
              "<table border=\"1\" class=\"dataframe\">\n",
              "  <thead>\n",
              "    <tr style=\"text-align: right;\">\n",
              "      <th></th>\n",
              "      <th>phrase_number</th>\n",
              "      <th>composition_number</th>\n",
              "      <th>cadence_role_cantz</th>\n",
              "      <th>cadence_alter</th>\n",
              "      <th>cadence_final_tone</th>\n",
              "      <th>cadence_role_tenz</th>\n",
              "      <th>cadence_kind</th>\n",
              "      <th>cadence_final_tone_before</th>\n",
              "      <th>cadence_final_tone_after</th>\n",
              "      <th>cadence_kind_before</th>\n",
              "      <th>cadence_kind_after</th>\n",
              "      <th>final_cadence</th>\n",
              "    </tr>\n",
              "  </thead>\n",
              "  <tbody>\n",
              "    <tr>\n",
              "      <th>0</th>\n",
              "      <td>DC0625.8: Dont nous serons plus contentz qu'eulx.</td>\n",
              "      <td>DC0625: Si je n'avois de fermeté</td>\n",
              "      <td>S</td>\n",
              "      <td>NaN</td>\n",
              "      <td>G</td>\n",
              "      <td>T</td>\n",
              "      <td>Authentic</td>\n",
              "      <td>A</td>\n",
              "      <td>None</td>\n",
              "      <td>Authentic</td>\n",
              "      <td>None</td>\n",
              "      <td>G</td>\n",
              "    </tr>\n",
              "    <tr>\n",
              "      <th>1</th>\n",
              "      <td>DC0625.6: Ami perfaict plus que les dieux,</td>\n",
              "      <td>DC0625: Si je n'avois de fermeté</td>\n",
              "      <td>S</td>\n",
              "      <td>NaN</td>\n",
              "      <td>A</td>\n",
              "      <td>T</td>\n",
              "      <td>Authentic</td>\n",
              "      <td>D</td>\n",
              "      <td>G</td>\n",
              "      <td>Plagal</td>\n",
              "      <td>Authentic</td>\n",
              "      <td>G</td>\n",
              "    </tr>\n",
              "    <tr>\n",
              "      <th>2</th>\n",
              "      <td>DC0625.5: Mais ne fault point que doubte on face,</td>\n",
              "      <td>DC0625: Si je n'avois de fermeté</td>\n",
              "      <td>None</td>\n",
              "      <td>NaN</td>\n",
              "      <td>D</td>\n",
              "      <td>None</td>\n",
              "      <td>Plagal</td>\n",
              "      <td>G</td>\n",
              "      <td>A</td>\n",
              "      <td>Authentic</td>\n",
              "      <td>Authentic</td>\n",
              "      <td>G</td>\n",
              "    </tr>\n",
              "    <tr>\n",
              "      <th>3</th>\n",
              "      <td>DC0625.2: Non plus que j'ay de bonne grace,</td>\n",
              "      <td>DC0625: Si je n'avois de fermeté</td>\n",
              "      <td>S</td>\n",
              "      <td>NaN</td>\n",
              "      <td>G</td>\n",
              "      <td>T</td>\n",
              "      <td>Authentic</td>\n",
              "      <td>C</td>\n",
              "      <td>D</td>\n",
              "      <td>Authentic</td>\n",
              "      <td>Plagal</td>\n",
              "      <td>G</td>\n",
              "    </tr>\n",
              "    <tr>\n",
              "      <th>4</th>\n",
              "      <td>DC0625.1: Si je n'avois de fermeté,</td>\n",
              "      <td>DC0625: Si je n'avois de fermeté</td>\n",
              "      <td>T</td>\n",
              "      <td>Displaced, Inverted, Evaded</td>\n",
              "      <td>C</td>\n",
              "      <td>Ct</td>\n",
              "      <td>Authentic</td>\n",
              "      <td>None</td>\n",
              "      <td>G</td>\n",
              "      <td>None</td>\n",
              "      <td>Authentic</td>\n",
              "      <td>G</td>\n",
              "    </tr>\n",
              "    <tr>\n",
              "      <th>...</th>\n",
              "      <td>...</td>\n",
              "      <td>...</td>\n",
              "      <td>...</td>\n",
              "      <td>...</td>\n",
              "      <td>...</td>\n",
              "      <td>...</td>\n",
              "      <td>...</td>\n",
              "      <td>...</td>\n",
              "      <td>...</td>\n",
              "      <td>...</td>\n",
              "      <td>...</td>\n",
              "      <td>...</td>\n",
              "    </tr>\n",
              "    <tr>\n",
              "      <th>996</th>\n",
              "      <td>DC0207.3: L’on en veit oncques de si belle,</td>\n",
              "      <td>DC0207: Joye et santé, ma demoiselle</td>\n",
              "      <td>S</td>\n",
              "      <td>Evaded</td>\n",
              "      <td>D</td>\n",
              "      <td>T</td>\n",
              "      <td>Phrygian</td>\n",
              "      <td>G</td>\n",
              "      <td>G</td>\n",
              "      <td>Authentic</td>\n",
              "      <td>Authentic</td>\n",
              "      <td>B-flat</td>\n",
              "    </tr>\n",
              "    <tr>\n",
              "      <th>1082</th>\n",
              "      <td>DC0118.9: Vous les ferez tous vifz crever de r...</td>\n",
              "      <td>DC0118: Vrais amateurs du plaisir de Vénus</td>\n",
              "      <td>S</td>\n",
              "      <td>None</td>\n",
              "      <td>G</td>\n",
              "      <td>T</td>\n",
              "      <td>Authentic</td>\n",
              "      <td>E</td>\n",
              "      <td>A</td>\n",
              "      <td>Phrygian</td>\n",
              "      <td>Authentic</td>\n",
              "      <td>A</td>\n",
              "    </tr>\n",
              "    <tr>\n",
              "      <th>1083</th>\n",
              "      <td>DC0118.8: Besongnez donc et de jour et de nuict.</td>\n",
              "      <td>DC0118: Vrais amateurs du plaisir de Vénus</td>\n",
              "      <td>Ct</td>\n",
              "      <td>Displaced</td>\n",
              "      <td>E</td>\n",
              "      <td>B</td>\n",
              "      <td>Phrygian</td>\n",
              "      <td>A</td>\n",
              "      <td>G</td>\n",
              "      <td>Authentic</td>\n",
              "      <td>Authentic</td>\n",
              "      <td>A</td>\n",
              "    </tr>\n",
              "    <tr>\n",
              "      <th>1097</th>\n",
              "      <td>DC0116.8: As tu osé luy faire un tel oultrage?</td>\n",
              "      <td>DC0116: Maistre Ambrelin, confesseur de nonettes</td>\n",
              "      <td>B</td>\n",
              "      <td>Displaced, Inverted</td>\n",
              "      <td>E</td>\n",
              "      <td>Ct</td>\n",
              "      <td>Phrygian</td>\n",
              "      <td>E</td>\n",
              "      <td>C</td>\n",
              "      <td>Plagal</td>\n",
              "      <td>Authentic</td>\n",
              "      <td>A</td>\n",
              "    </tr>\n",
              "    <tr>\n",
              "      <th>1109</th>\n",
              "      <td>DC0114.9: Elle me paist ceste seconde Heleine</td>\n",
              "      <td>DC0114: Trop justement je forme une complainte</td>\n",
              "      <td>S</td>\n",
              "      <td>Displaced, Evaded</td>\n",
              "      <td>None</td>\n",
              "      <td>Ct</td>\n",
              "      <td>Authentic</td>\n",
              "      <td>C</td>\n",
              "      <td>A</td>\n",
              "      <td>Authentic</td>\n",
              "      <td>Authentic</td>\n",
              "      <td>A</td>\n",
              "    </tr>\n",
              "  </tbody>\n",
              "</table>\n",
              "<p>177 rows × 12 columns</p>\n",
              "</div>"
            ],
            "text/plain": [
              "                                          phrase_number  ... final_cadence\n",
              "0     DC0625.8: Dont nous serons plus contentz qu'eulx.  ...             G\n",
              "1            DC0625.6: Ami perfaict plus que les dieux,  ...             G\n",
              "2     DC0625.5: Mais ne fault point que doubte on face,  ...             G\n",
              "3           DC0625.2: Non plus que j'ay de bonne grace,  ...             G\n",
              "4                   DC0625.1: Si je n'avois de fermeté,  ...             G\n",
              "...                                                 ...  ...           ...\n",
              "996         DC0207.3: L’on en veit oncques de si belle,  ...        B-flat\n",
              "1082  DC0118.9: Vous les ferez tous vifz crever de r...  ...             A\n",
              "1083   DC0118.8: Besongnez donc et de jour et de nuict.  ...             A\n",
              "1097     DC0116.8: As tu osé luy faire un tel oultrage?  ...             A\n",
              "1109      DC0114.9: Elle me paist ceste seconde Heleine  ...             A\n",
              "\n",
              "[177 rows x 12 columns]"
            ]
          },
          "metadata": {
            "tags": []
          },
          "execution_count": 18
        }
      ]
    }
  ]
}