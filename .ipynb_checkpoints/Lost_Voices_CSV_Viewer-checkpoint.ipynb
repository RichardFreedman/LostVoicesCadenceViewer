{
 "cells": [
  {
   "cell_type": "markdown",
   "metadata": {
    "id": "d11L2LyyBEG3"
   },
   "source": [
    "# Pandas for Lost Voices CSV\n"
   ]
  },
  {
   "cell_type": "markdown",
   "metadata": {
    "id": "cDL2dspQBEG4"
   },
   "source": [
    "## Import the Tools"
   ]
  },
  {
   "cell_type": "code",
   "execution_count": 1,
   "metadata": {
    "id": "BEm7Z7MjBEG5"
   },
   "outputs": [],
   "source": [
    "import pandas as pd\n",
    "import matplotlib.pyplot as plt\n",
    "%matplotlib inline\n",
    "import seaborn as sns\n",
    "\n"
   ]
  },
  {
   "cell_type": "markdown",
   "metadata": {
    "id": "PnNWQx5MBEG8"
   },
   "source": [
    "## Import the CSV Created by Lost Voices\n",
    "\n",
    "- CSV files can be uploaded from your computer.\n"
   ]
  },
  {
   "cell_type": "markdown",
   "metadata": {
    "id": "pon93RXdlPaF"
   },
   "source": [
    "## Name the Important File as a DataSet\n",
    "- Give the imported file a simple name to be used in the subsequent analysis and visualization.  For instance `Data_Name =`\n",
    "- Pandas will read the csv, but be sure to check the path and file name: `pd.read_csv('/content/Stras_Brumel_Exact_V5_P4.csv')`"
   ]
  },
  {
   "cell_type": "code",
   "execution_count": 4,
   "metadata": {
    "id": "wQvVRtvKBEG9"
   },
   "outputs": [],
   "source": [
    "df = pd.read_csv ('https://raw.githubusercontent.com/RichardFreedman/LostVoicesCadenceViewer/main/LV_CadenceData.csv')"
   ]
  },
  {
   "cell_type": "markdown",
   "metadata": {
    "id": "-mRdcOJSBEG_"
   },
   "source": [
    "## Inspect It \n",
    "- The `.head(n)` allows you to check the columns and contents.  `n` determines the number of rows in the preview."
   ]
  },
  {
   "cell_type": "code",
   "execution_count": 5,
   "metadata": {
    "colab": {
     "base_uri": "https://localhost:8080/",
     "height": 394
    },
    "id": "-qQLaAW_BEHA",
    "outputId": "2003011f-02da-4734-aaab-3afb5f179455"
   },
   "outputs": [
    {
     "data": {
      "text/html": [
       "<div>\n",
       "<style scoped>\n",
       "    .dataframe tbody tr th:only-of-type {\n",
       "        vertical-align: middle;\n",
       "    }\n",
       "\n",
       "    .dataframe tbody tr th {\n",
       "        vertical-align: top;\n",
       "    }\n",
       "\n",
       "    .dataframe thead th {\n",
       "        text-align: right;\n",
       "    }\n",
       "</style>\n",
       "<table border=\"1\" class=\"dataframe\">\n",
       "  <thead>\n",
       "    <tr style=\"text-align: right;\">\n",
       "      <th></th>\n",
       "      <th>phrase_number</th>\n",
       "      <th>composition_number</th>\n",
       "      <th>cadence_role_cantz</th>\n",
       "      <th>cadence_alter</th>\n",
       "      <th>cadence_final_tone</th>\n",
       "      <th>cadence_role_tenz</th>\n",
       "      <th>cadence_kind</th>\n",
       "      <th>cadence_final_tone_before</th>\n",
       "      <th>cadence_final_tone_after</th>\n",
       "      <th>cadence_kind_before</th>\n",
       "      <th>cadence_kind_after</th>\n",
       "      <th>final_cadence</th>\n",
       "    </tr>\n",
       "  </thead>\n",
       "  <tbody>\n",
       "    <tr>\n",
       "      <td>0</td>\n",
       "      <td>DC0625.8: Dont nous serons plus contentz qu'eulx.</td>\n",
       "      <td>DC0625: Si je n'avois de fermeté</td>\n",
       "      <td>S</td>\n",
       "      <td>NaN</td>\n",
       "      <td>G</td>\n",
       "      <td>T</td>\n",
       "      <td>Authentic</td>\n",
       "      <td>A</td>\n",
       "      <td>None</td>\n",
       "      <td>Authentic</td>\n",
       "      <td>None</td>\n",
       "      <td>G</td>\n",
       "    </tr>\n",
       "    <tr>\n",
       "      <td>1</td>\n",
       "      <td>DC0625.6: Ami perfaict plus que les dieux,</td>\n",
       "      <td>DC0625: Si je n'avois de fermeté</td>\n",
       "      <td>S</td>\n",
       "      <td>NaN</td>\n",
       "      <td>A</td>\n",
       "      <td>T</td>\n",
       "      <td>Authentic</td>\n",
       "      <td>D</td>\n",
       "      <td>G</td>\n",
       "      <td>Plagal</td>\n",
       "      <td>Authentic</td>\n",
       "      <td>G</td>\n",
       "    </tr>\n",
       "    <tr>\n",
       "      <td>2</td>\n",
       "      <td>DC0625.5: Mais ne fault point que doubte on face,</td>\n",
       "      <td>DC0625: Si je n'avois de fermeté</td>\n",
       "      <td>None</td>\n",
       "      <td>NaN</td>\n",
       "      <td>D</td>\n",
       "      <td>None</td>\n",
       "      <td>Plagal</td>\n",
       "      <td>G</td>\n",
       "      <td>A</td>\n",
       "      <td>Authentic</td>\n",
       "      <td>Authentic</td>\n",
       "      <td>G</td>\n",
       "    </tr>\n",
       "    <tr>\n",
       "      <td>3</td>\n",
       "      <td>DC0625.2: Non plus que j'ay de bonne grace,</td>\n",
       "      <td>DC0625: Si je n'avois de fermeté</td>\n",
       "      <td>S</td>\n",
       "      <td>NaN</td>\n",
       "      <td>G</td>\n",
       "      <td>T</td>\n",
       "      <td>Authentic</td>\n",
       "      <td>C</td>\n",
       "      <td>D</td>\n",
       "      <td>Authentic</td>\n",
       "      <td>Plagal</td>\n",
       "      <td>G</td>\n",
       "    </tr>\n",
       "    <tr>\n",
       "      <td>4</td>\n",
       "      <td>DC0625.1: Si je n'avois de fermeté,</td>\n",
       "      <td>DC0625: Si je n'avois de fermeté</td>\n",
       "      <td>T</td>\n",
       "      <td>Displaced, Inverted, Evaded</td>\n",
       "      <td>C</td>\n",
       "      <td>Ct</td>\n",
       "      <td>Authentic</td>\n",
       "      <td>None</td>\n",
       "      <td>G</td>\n",
       "      <td>None</td>\n",
       "      <td>Authentic</td>\n",
       "      <td>G</td>\n",
       "    </tr>\n",
       "  </tbody>\n",
       "</table>\n",
       "</div>"
      ],
      "text/plain": [
       "                                       phrase_number  \\\n",
       "0  DC0625.8: Dont nous serons plus contentz qu'eulx.   \n",
       "1         DC0625.6: Ami perfaict plus que les dieux,   \n",
       "2  DC0625.5: Mais ne fault point que doubte on face,   \n",
       "3        DC0625.2: Non plus que j'ay de bonne grace,   \n",
       "4                DC0625.1: Si je n'avois de fermeté,   \n",
       "\n",
       "                 composition_number cadence_role_cantz  \\\n",
       "0  DC0625: Si je n'avois de fermeté                  S   \n",
       "1  DC0625: Si je n'avois de fermeté                  S   \n",
       "2  DC0625: Si je n'avois de fermeté               None   \n",
       "3  DC0625: Si je n'avois de fermeté                  S   \n",
       "4  DC0625: Si je n'avois de fermeté                  T   \n",
       "\n",
       "                 cadence_alter cadence_final_tone cadence_role_tenz  \\\n",
       "0                          NaN                  G                 T   \n",
       "1                          NaN                  A                 T   \n",
       "2                          NaN                  D              None   \n",
       "3                          NaN                  G                 T   \n",
       "4  Displaced, Inverted, Evaded                  C                Ct   \n",
       "\n",
       "  cadence_kind cadence_final_tone_before cadence_final_tone_after  \\\n",
       "0    Authentic                         A                     None   \n",
       "1    Authentic                         D                        G   \n",
       "2       Plagal                         G                        A   \n",
       "3    Authentic                         C                        D   \n",
       "4    Authentic                      None                        G   \n",
       "\n",
       "  cadence_kind_before cadence_kind_after final_cadence  \n",
       "0           Authentic               None             G  \n",
       "1              Plagal          Authentic             G  \n",
       "2           Authentic          Authentic             G  \n",
       "3           Authentic             Plagal             G  \n",
       "4                None          Authentic             G  "
      ]
     },
     "execution_count": 5,
     "metadata": {},
     "output_type": "execute_result"
    }
   ],
   "source": [
    "df.head(5)"
   ]
  },
  {
   "cell_type": "markdown",
   "metadata": {
    "id": "KDt5y57gBEHC"
   },
   "source": [
    "## Get Basic Information\n",
    "- Another overview with `.info()` provides the total dimensions (rows + columns), plus the column names."
   ]
  },
  {
   "cell_type": "code",
   "execution_count": 6,
   "metadata": {
    "colab": {
     "base_uri": "https://localhost:8080/"
    },
    "id": "iESZ3TglBEHD",
    "outputId": "cde0cd05-7cb0-4ead-9dac-3c2b32802e4d"
   },
   "outputs": [
    {
     "name": "stdout",
     "output_type": "stream",
     "text": [
      "<class 'pandas.core.frame.DataFrame'>\n",
      "RangeIndex: 1195 entries, 0 to 1194\n",
      "Data columns (total 12 columns):\n",
      "phrase_number                1195 non-null object\n",
      "composition_number           1195 non-null object\n",
      "cadence_role_cantz           1168 non-null object\n",
      "cadence_alter                753 non-null object\n",
      "cadence_final_tone           1195 non-null object\n",
      "cadence_role_tenz            1168 non-null object\n",
      "cadence_kind                 1195 non-null object\n",
      "cadence_final_tone_before    1195 non-null object\n",
      "cadence_final_tone_after     1195 non-null object\n",
      "cadence_kind_before          1195 non-null object\n",
      "cadence_kind_after           1195 non-null object\n",
      "final_cadence                1195 non-null object\n",
      "dtypes: object(12)\n",
      "memory usage: 112.2+ KB\n"
     ]
    }
   ],
   "source": [
    "df.info()"
   ]
  },
  {
   "cell_type": "markdown",
   "metadata": {
    "id": "bC0kUzHmBEHF"
   },
   "source": [
    "## Get \"Counts\" for Values of a Particular Column\n",
    "- For any column in the data_set, `['Column_Name']` in the code below, like `data_set_name['Column_Name'].value_counts()`\n",
    "\n"
   ]
  },
  {
   "cell_type": "code",
   "execution_count": 9,
   "metadata": {
    "colab": {
     "base_uri": "https://localhost:8080/"
    },
    "id": "uT1trXxBBEHF",
    "outputId": "d9174041-a9ac-42b8-e7c4-89f40d3fd8da"
   },
   "outputs": [
    {
     "data": {
      "text/plain": [
       "Authentic    882\n",
       "Plagal       158\n",
       "Phrygian      98\n",
       "CadInCad      37\n",
       "CAD NDLT      20\n",
       "Name: cadence_kind, dtype: int64"
      ]
     },
     "execution_count": 9,
     "metadata": {},
     "output_type": "execute_result"
    }
   ],
   "source": [
    "df['cadence_kind'].value_counts()\n"
   ]
  },
  {
   "cell_type": "markdown",
   "metadata": {
    "id": "NbfXhQMvBEHI"
   },
   "source": [
    "## Plot Values as Histogram\n",
    "\n",
    "Now using the matlib plotly resource, we can visualize in various formats\n",
    "In the code below:\n",
    "- `(fisgsize=(16,6))` determines the size of the image (w,h)\n",
    "- `data=name` = name given the imported file above\n",
    "- `x='column_name'` is the column to use for the X axis\n",
    "- `hue='column_name` is the column to use for the colors (and key)\n"
   ]
  },
  {
   "cell_type": "code",
   "execution_count": 10,
   "metadata": {
    "colab": {
     "base_uri": "https://localhost:8080/",
     "height": 316
    },
    "id": "3NZneB-WBEHI",
    "outputId": "9ba203a5-090d-4756-9e1f-d191c1022266"
   },
   "outputs": [
    {
     "data": {
      "image/png": "[encoded data removed]",
      "text/plain": [
       "<Figure size 1728x432 with 1 Axes>"
      ]
     },
     "metadata": {
      "needs_background": "light"
     },
     "output_type": "display_data"
    }
   ],
   "source": [
    "plt.figure(figsize=(24,6))\n",
    "sns.countplot(x='cadence_final_tone',data=df, hue='cadence_kind');"
   ]
  },
  {
   "cell_type": "markdown",
   "metadata": {
    "id": "Xi9FheeDBEHK"
   },
   "source": [
    "## Get Data for an Individual Value with a Column\n",
    "- For example:  a particular Piece within `Piece_Title`\n",
    "- By default Pandas will display just the first and last five rows of the result.\n",
    "- To show show more (or less), add: `pd.set_option(\"max_rows\", None)`.  Note that in this case `None` means \"no maximium, or ALL.\""
   ]
  },
  {
   "cell_type": "markdown",
   "metadata": {
    "id": "WsVa47qaBEHN"
   },
   "source": [
    "## Sort Data According to Selected Columns\n",
    "- We can also put data in order (ascending/descending) by one more more columns.\n",
    "- Giving this sorted version a new name will allow us to export or display it in this state."
   ]
  },
  {
   "cell_type": "code",
   "execution_count": 11,
   "metadata": {
    "colab": {
     "base_uri": "https://localhost:8080/",
     "height": 445
    },
    "id": "sF0k_XybBEHN",
    "outputId": "a78cb035-175c-47df-de38-e9b590a4223b",
    "scrolled": true
   },
   "outputs": [
    {
     "data": {
      "text/html": [
       "<div>\n",
       "<style scoped>\n",
       "    .dataframe tbody tr th:only-of-type {\n",
       "        vertical-align: middle;\n",
       "    }\n",
       "\n",
       "    .dataframe tbody tr th {\n",
       "        vertical-align: top;\n",
       "    }\n",
       "\n",
       "    .dataframe thead th {\n",
       "        text-align: right;\n",
       "    }\n",
       "</style>\n",
       "<table border=\"1\" class=\"dataframe\">\n",
       "  <thead>\n",
       "    <tr style=\"text-align: right;\">\n",
       "      <th></th>\n",
       "      <th>phrase_number</th>\n",
       "      <th>composition_number</th>\n",
       "      <th>cadence_role_cantz</th>\n",
       "      <th>cadence_alter</th>\n",
       "      <th>cadence_final_tone</th>\n",
       "      <th>cadence_role_tenz</th>\n",
       "      <th>cadence_kind</th>\n",
       "      <th>cadence_final_tone_before</th>\n",
       "      <th>cadence_final_tone_after</th>\n",
       "      <th>cadence_kind_before</th>\n",
       "      <th>cadence_kind_after</th>\n",
       "      <th>final_cadence</th>\n",
       "    </tr>\n",
       "  </thead>\n",
       "  <tbody>\n",
       "    <tr>\n",
       "      <td>1</td>\n",
       "      <td>DC0625.6: Ami perfaict plus que les dieux,</td>\n",
       "      <td>DC0625: Si je n'avois de fermeté</td>\n",
       "      <td>S</td>\n",
       "      <td>NaN</td>\n",
       "      <td>A</td>\n",
       "      <td>T</td>\n",
       "      <td>Authentic</td>\n",
       "      <td>D</td>\n",
       "      <td>G</td>\n",
       "      <td>Plagal</td>\n",
       "      <td>Authentic</td>\n",
       "      <td>G</td>\n",
       "    </tr>\n",
       "    <tr>\n",
       "      <td>40</td>\n",
       "      <td>DC0615.6: Ne me chault d'acquerir leurs graces,</td>\n",
       "      <td>DC0615: N'ayez plus peur, mary jaloux</td>\n",
       "      <td>S</td>\n",
       "      <td>NaN</td>\n",
       "      <td>A</td>\n",
       "      <td>T</td>\n",
       "      <td>Authentic</td>\n",
       "      <td>F</td>\n",
       "      <td>C</td>\n",
       "      <td>Authentic</td>\n",
       "      <td>Authentic</td>\n",
       "      <td>F</td>\n",
       "    </tr>\n",
       "    <tr>\n",
       "      <td>87</td>\n",
       "      <td>DC0604.7: Mais s'advenu m'estoit par ignorance,</td>\n",
       "      <td>DC0604: Où est ce temps, dictes, mademoiselle</td>\n",
       "      <td>S</td>\n",
       "      <td>Evaded</td>\n",
       "      <td>A</td>\n",
       "      <td>T</td>\n",
       "      <td>Authentic</td>\n",
       "      <td>D</td>\n",
       "      <td>G</td>\n",
       "      <td>Plagal</td>\n",
       "      <td>Authentic</td>\n",
       "      <td>G</td>\n",
       "    </tr>\n",
       "    <tr>\n",
       "      <td>93</td>\n",
       "      <td>DC0603.8: Dont ja commence à m’ennuyer ma vie,</td>\n",
       "      <td>DC0603: Or à ce jour le verd may se termine</td>\n",
       "      <td>S</td>\n",
       "      <td>NaN</td>\n",
       "      <td>A</td>\n",
       "      <td>T</td>\n",
       "      <td>Authentic</td>\n",
       "      <td>D</td>\n",
       "      <td>A</td>\n",
       "      <td>Authentic</td>\n",
       "      <td>Authentic</td>\n",
       "      <td>D</td>\n",
       "    </tr>\n",
       "    <tr>\n",
       "      <td>97</td>\n",
       "      <td>DC0603.3: Las est à moy tout mon verd si se fine,</td>\n",
       "      <td>DC0603: Or à ce jour le verd may se termine</td>\n",
       "      <td>T</td>\n",
       "      <td>Displaced, Inverted, Evaded</td>\n",
       "      <td>A</td>\n",
       "      <td>Ct</td>\n",
       "      <td>Authentic</td>\n",
       "      <td>A</td>\n",
       "      <td>A</td>\n",
       "      <td>Plagal</td>\n",
       "      <td>Plagal</td>\n",
       "      <td>D</td>\n",
       "    </tr>\n",
       "  </tbody>\n",
       "</table>\n",
       "</div>"
      ],
      "text/plain": [
       "                                        phrase_number  \\\n",
       "1          DC0625.6: Ami perfaict plus que les dieux,   \n",
       "40    DC0615.6: Ne me chault d'acquerir leurs graces,   \n",
       "87    DC0604.7: Mais s'advenu m'estoit par ignorance,   \n",
       "93     DC0603.8: Dont ja commence à m’ennuyer ma vie,   \n",
       "97  DC0603.3: Las est à moy tout mon verd si se fine,   \n",
       "\n",
       "                               composition_number cadence_role_cantz  \\\n",
       "1                DC0625: Si je n'avois de fermeté                  S   \n",
       "40          DC0615: N'ayez plus peur, mary jaloux                  S   \n",
       "87  DC0604: Où est ce temps, dictes, mademoiselle                  S   \n",
       "93    DC0603: Or à ce jour le verd may se termine                  S   \n",
       "97    DC0603: Or à ce jour le verd may se termine                  T   \n",
       "\n",
       "                  cadence_alter cadence_final_tone cadence_role_tenz  \\\n",
       "1                           NaN                  A                 T   \n",
       "40                          NaN                  A                 T   \n",
       "87                       Evaded                  A                 T   \n",
       "93                          NaN                  A                 T   \n",
       "97  Displaced, Inverted, Evaded                  A                Ct   \n",
       "\n",
       "   cadence_kind cadence_final_tone_before cadence_final_tone_after  \\\n",
       "1     Authentic                         D                        G   \n",
       "40    Authentic                         F                        C   \n",
       "87    Authentic                         D                        G   \n",
       "93    Authentic                         D                        A   \n",
       "97    Authentic                         A                        A   \n",
       "\n",
       "   cadence_kind_before cadence_kind_after final_cadence  \n",
       "1               Plagal          Authentic             G  \n",
       "40           Authentic          Authentic             F  \n",
       "87              Plagal          Authentic             G  \n",
       "93           Authentic          Authentic             D  \n",
       "97              Plagal             Plagal             D  "
      ]
     },
     "execution_count": 11,
     "metadata": {},
     "output_type": "execute_result"
    }
   ],
   "source": [
    "df.sort_values(['cadence_final_tone','cadence_kind'])\n",
    "Sorted = df.sort_values(['cadence_final_tone','cadence_kind'])\n",
    "Sorted.head()"
   ]
  },
  {
   "cell_type": "markdown",
   "metadata": {
    "id": "iE5X72bHx0NY"
   },
   "source": [
    "## Seaborn Plots\n",
    "- An extension of the MatPlot library, Seaborn provides various views of the data using three 'dimensions' of information for position and color.\n",
    "- See samples: https://seaborn.pydata.org/examples/index.html\n",
    "- This is a 'swarmplot', `data=Heth` determines the data to use, `y=\"Pattern_Matched\"` determines y axis, `x=\"First_Note_Measure_Number\"` determines x axis, and `hue=\"Part\"` determines color and key."
   ]
  },
  {
   "cell_type": "code",
   "execution_count": null,
   "metadata": {
    "colab": {
     "base_uri": "https://localhost:8080/",
     "height": 419
    },
    "id": "vhGAvOrJBEHV",
    "outputId": "bd4524dd-abad-4203-e71b-91c20de17eaa"
   },
   "outputs": [
    {
     "name": "stderr",
     "output_type": "stream",
     "text": [
      "/usr/local/lib/python3.6/dist-packages/seaborn/categorical.py:1296: UserWarning: 81.2% of the points cannot be placed; you may want to decrease the size of the markers or use stripplot.\n",
      "  warnings.warn(msg, UserWarning)\n",
      "/usr/local/lib/python3.6/dist-packages/seaborn/categorical.py:1296: UserWarning: 18.9% of the points cannot be placed; you may want to decrease the size of the markers or use stripplot.\n",
      "  warnings.warn(msg, UserWarning)\n",
      "/usr/local/lib/python3.6/dist-packages/seaborn/categorical.py:1296: UserWarning: 26.5% of the points cannot be placed; you may want to decrease the size of the markers or use stripplot.\n",
      "  warnings.warn(msg, UserWarning)\n"
     ]
    },
    {
     "data": {
      "text/plain": [
       "[Text(0, 0.5, '')]"
      ]
     },
     "execution_count": 11,
     "metadata": {
      "tags": []
     },
     "output_type": "execute_result"
    },
    {
     "data": {
      "image/png": "[encoded data removed]",
      "text/plain": [
       "<Figure size 1152x288 with 1 Axes>"
      ]
     },
     "metadata": {
      "needs_background": "light",
      "tags": []
     },
     "output_type": "display_data"
    }
   ],
   "source": [
    "# Draw a categorical scatterplot to show each observation\n",
    "# The problem here is that there are too many data points to display properly with swarmplot for Du Chemin Cadences\n",
    "plt.figure(figsize=(16,4))\n",
    "ax = sns.swarmplot(data=df, y=\"cadence_final_tone\", x=\"cadence_kind\", hue=\"cadence_role_tenz\");\n",
    "ax.set(ylabel=\"\")"
   ]
  },
  {
   "cell_type": "code",
   "execution_count": null,
   "metadata": {
    "colab": {
     "base_uri": "https://localhost:8080/",
     "height": 265
    },
    "id": "_0uDCqJXAiVl",
    "outputId": "1e11a432-f43a-4009-fd80-3242cce59294"
   },
   "outputs": [
    {
     "data": {
      "image/png": "[encoded data removed]",
      "text/plain": [
       "<Figure size 1728x288 with 1 Axes>"
      ]
     },
     "metadata": {
      "needs_background": "light",
      "tags": []
     },
     "output_type": "display_data"
    }
   ],
   "source": [
    "#Strip Plot manages the Du Chemin Cadence Data OK\n",
    "# X plots the Last Cadence of the Piece\n",
    "\n",
    "plt.figure(figsize=(24,4))\n",
    "p = sns.stripplot(data=df,\n",
    "                  x='final_cadence',\n",
    "                  y='cadence_final_tone',\n",
    "                  hue='cadence_kind',\n",
    "                  jitter=.25,\n",
    "                  dodge=True)"
   ]
  },
  {
   "cell_type": "code",
   "execution_count": null,
   "metadata": {
    "colab": {
     "base_uri": "https://localhost:8080/",
     "height": 389
    },
    "id": "8tdRdyEvTInk",
    "outputId": "b87766c9-02ae-4bc0-b07c-f9fa5dfc8131"
   },
   "outputs": [
    {
     "data": {
      "image/png": "[encoded data removed]",
      "text/plain": [
       "<Figure size 1440x432 with 1 Axes>"
      ]
     },
     "metadata": {
      "needs_background": "light",
      "tags": []
     },
     "output_type": "display_data"
    }
   ],
   "source": [
    "plt.figure(figsize=(20,6))\n",
    "ax = sns.stripplot(x=\"final_cadence\", y=\"cadence_final_tone\", hue=\"cadence_kind\",\n",
    "                   data=df, palette=\"Set2\", dodge=True)"
   ]
  },
  {
   "cell_type": "markdown",
   "metadata": {
    "id": "xApGzF5VBU9y"
   },
   "source": [
    "# Grouping"
   ]
  },
  {
   "cell_type": "code",
   "execution_count": null,
   "metadata": {
    "colab": {
     "base_uri": "https://localhost:8080/",
     "height": 796
    },
    "id": "-XzWjf95BEHc",
    "outputId": "671d461b-6f68-4887-c404-c7242dca7cd1"
   },
   "outputs": [
    {
     "data": {
      "text/html": [
       "<div>\n",
       "<style scoped>\n",
       "    .dataframe tbody tr th:only-of-type {\n",
       "        vertical-align: middle;\n",
       "    }\n",
       "\n",
       "    .dataframe tbody tr th {\n",
       "        vertical-align: top;\n",
       "    }\n",
       "\n",
       "    .dataframe thead th {\n",
       "        text-align: right;\n",
       "    }\n",
       "</style>\n",
       "<table border=\"1\" class=\"dataframe\">\n",
       "  <thead>\n",
       "    <tr style=\"text-align: right;\">\n",
       "      <th></th>\n",
       "      <th>phrase_number</th>\n",
       "      <th>composition_number</th>\n",
       "      <th>cadence_role_cantz</th>\n",
       "      <th>cadence_alter</th>\n",
       "      <th>cadence_final_tone</th>\n",
       "      <th>cadence_role_tenz</th>\n",
       "      <th>cadence_kind</th>\n",
       "      <th>cadence_final_tone_before</th>\n",
       "      <th>cadence_final_tone_after</th>\n",
       "      <th>cadence_kind_before</th>\n",
       "      <th>cadence_kind_after</th>\n",
       "      <th>final_cadence</th>\n",
       "    </tr>\n",
       "  </thead>\n",
       "  <tbody>\n",
       "    <tr>\n",
       "      <th>0</th>\n",
       "      <td>DC0625.8: Dont nous serons plus contentz qu'eulx.</td>\n",
       "      <td>DC0625: Si je n'avois de fermeté</td>\n",
       "      <td>S</td>\n",
       "      <td>NaN</td>\n",
       "      <td>G</td>\n",
       "      <td>T</td>\n",
       "      <td>Authentic</td>\n",
       "      <td>A</td>\n",
       "      <td>None</td>\n",
       "      <td>Authentic</td>\n",
       "      <td>None</td>\n",
       "      <td>G</td>\n",
       "    </tr>\n",
       "    <tr>\n",
       "      <th>1</th>\n",
       "      <td>DC0625.6: Ami perfaict plus que les dieux,</td>\n",
       "      <td>DC0625: Si je n'avois de fermeté</td>\n",
       "      <td>S</td>\n",
       "      <td>NaN</td>\n",
       "      <td>A</td>\n",
       "      <td>T</td>\n",
       "      <td>Authentic</td>\n",
       "      <td>D</td>\n",
       "      <td>G</td>\n",
       "      <td>Plagal</td>\n",
       "      <td>Authentic</td>\n",
       "      <td>G</td>\n",
       "    </tr>\n",
       "    <tr>\n",
       "      <th>2</th>\n",
       "      <td>DC0625.5: Mais ne fault point que doubte on face,</td>\n",
       "      <td>DC0625: Si je n'avois de fermeté</td>\n",
       "      <td>None</td>\n",
       "      <td>NaN</td>\n",
       "      <td>D</td>\n",
       "      <td>None</td>\n",
       "      <td>Plagal</td>\n",
       "      <td>G</td>\n",
       "      <td>A</td>\n",
       "      <td>Authentic</td>\n",
       "      <td>Authentic</td>\n",
       "      <td>G</td>\n",
       "    </tr>\n",
       "    <tr>\n",
       "      <th>3</th>\n",
       "      <td>DC0625.2: Non plus que j'ay de bonne grace,</td>\n",
       "      <td>DC0625: Si je n'avois de fermeté</td>\n",
       "      <td>S</td>\n",
       "      <td>NaN</td>\n",
       "      <td>G</td>\n",
       "      <td>T</td>\n",
       "      <td>Authentic</td>\n",
       "      <td>C</td>\n",
       "      <td>D</td>\n",
       "      <td>Authentic</td>\n",
       "      <td>Plagal</td>\n",
       "      <td>G</td>\n",
       "    </tr>\n",
       "    <tr>\n",
       "      <th>4</th>\n",
       "      <td>DC0625.1: Si je n'avois de fermeté,</td>\n",
       "      <td>DC0625: Si je n'avois de fermeté</td>\n",
       "      <td>T</td>\n",
       "      <td>Displaced, Inverted, Evaded</td>\n",
       "      <td>C</td>\n",
       "      <td>Ct</td>\n",
       "      <td>Authentic</td>\n",
       "      <td>None</td>\n",
       "      <td>G</td>\n",
       "      <td>None</td>\n",
       "      <td>Authentic</td>\n",
       "      <td>G</td>\n",
       "    </tr>\n",
       "    <tr>\n",
       "      <th>...</th>\n",
       "      <td>...</td>\n",
       "      <td>...</td>\n",
       "      <td>...</td>\n",
       "      <td>...</td>\n",
       "      <td>...</td>\n",
       "      <td>...</td>\n",
       "      <td>...</td>\n",
       "      <td>...</td>\n",
       "      <td>...</td>\n",
       "      <td>...</td>\n",
       "      <td>...</td>\n",
       "      <td>...</td>\n",
       "    </tr>\n",
       "    <tr>\n",
       "      <th>996</th>\n",
       "      <td>DC0207.3: L’on en veit oncques de si belle,</td>\n",
       "      <td>DC0207: Joye et santé, ma demoiselle</td>\n",
       "      <td>S</td>\n",
       "      <td>Evaded</td>\n",
       "      <td>D</td>\n",
       "      <td>T</td>\n",
       "      <td>Phrygian</td>\n",
       "      <td>G</td>\n",
       "      <td>G</td>\n",
       "      <td>Authentic</td>\n",
       "      <td>Authentic</td>\n",
       "      <td>B-flat</td>\n",
       "    </tr>\n",
       "    <tr>\n",
       "      <th>1082</th>\n",
       "      <td>DC0118.9: Vous les ferez tous vifz crever de r...</td>\n",
       "      <td>DC0118: Vrais amateurs du plaisir de Vénus</td>\n",
       "      <td>S</td>\n",
       "      <td>None</td>\n",
       "      <td>G</td>\n",
       "      <td>T</td>\n",
       "      <td>Authentic</td>\n",
       "      <td>E</td>\n",
       "      <td>A</td>\n",
       "      <td>Phrygian</td>\n",
       "      <td>Authentic</td>\n",
       "      <td>A</td>\n",
       "    </tr>\n",
       "    <tr>\n",
       "      <th>1083</th>\n",
       "      <td>DC0118.8: Besongnez donc et de jour et de nuict.</td>\n",
       "      <td>DC0118: Vrais amateurs du plaisir de Vénus</td>\n",
       "      <td>Ct</td>\n",
       "      <td>Displaced</td>\n",
       "      <td>E</td>\n",
       "      <td>B</td>\n",
       "      <td>Phrygian</td>\n",
       "      <td>A</td>\n",
       "      <td>G</td>\n",
       "      <td>Authentic</td>\n",
       "      <td>Authentic</td>\n",
       "      <td>A</td>\n",
       "    </tr>\n",
       "    <tr>\n",
       "      <th>1097</th>\n",
       "      <td>DC0116.8: As tu osé luy faire un tel oultrage?</td>\n",
       "      <td>DC0116: Maistre Ambrelin, confesseur de nonettes</td>\n",
       "      <td>B</td>\n",
       "      <td>Displaced, Inverted</td>\n",
       "      <td>E</td>\n",
       "      <td>Ct</td>\n",
       "      <td>Phrygian</td>\n",
       "      <td>E</td>\n",
       "      <td>C</td>\n",
       "      <td>Plagal</td>\n",
       "      <td>Authentic</td>\n",
       "      <td>A</td>\n",
       "    </tr>\n",
       "    <tr>\n",
       "      <th>1109</th>\n",
       "      <td>DC0114.9: Elle me paist ceste seconde Heleine</td>\n",
       "      <td>DC0114: Trop justement je forme une complainte</td>\n",
       "      <td>S</td>\n",
       "      <td>Displaced, Evaded</td>\n",
       "      <td>None</td>\n",
       "      <td>Ct</td>\n",
       "      <td>Authentic</td>\n",
       "      <td>C</td>\n",
       "      <td>A</td>\n",
       "      <td>Authentic</td>\n",
       "      <td>Authentic</td>\n",
       "      <td>A</td>\n",
       "    </tr>\n",
       "  </tbody>\n",
       "</table>\n",
       "<p>177 rows × 12 columns</p>\n",
       "</div>"
      ],
      "text/plain": [
       "                                          phrase_number  ... final_cadence\n",
       "0     DC0625.8: Dont nous serons plus contentz qu'eulx.  ...             G\n",
       "1            DC0625.6: Ami perfaict plus que les dieux,  ...             G\n",
       "2     DC0625.5: Mais ne fault point que doubte on face,  ...             G\n",
       "3           DC0625.2: Non plus que j'ay de bonne grace,  ...             G\n",
       "4                   DC0625.1: Si je n'avois de fermeté,  ...             G\n",
       "...                                                 ...  ...           ...\n",
       "996         DC0207.3: L’on en veit oncques de si belle,  ...        B-flat\n",
       "1082  DC0118.9: Vous les ferez tous vifz crever de r...  ...             A\n",
       "1083   DC0118.8: Besongnez donc et de jour et de nuict.  ...             A\n",
       "1097     DC0116.8: As tu osé luy faire un tel oultrage?  ...             A\n",
       "1109      DC0114.9: Elle me paist ceste seconde Heleine  ...             A\n",
       "\n",
       "[177 rows x 12 columns]"
      ]
     },
     "execution_count": 18,
     "metadata": {
      "tags": []
     },
     "output_type": "execute_result"
    }
   ],
   "source": [
    "grouped = df.groupby(['cadence_final_tone', 'final_cadence'])\n",
    "#grouped.describe()\n",
    "gb = df.groupby(\"final_cadence\")\n",
    "gb.count() # or,\n",
    "grouped.head()\n",
    "#pd.DataFrame(grouped)\n",
    "#DF_output = pd.DataFrame(grouped)\n",
    "#DF_output.to_csv(\"grouped_test.csv\")"
   ]
  }
 ],
 "metadata": {
  "colab": {
   "collapsed_sections": [],
   "name": "Lost_Voices_CSV_Viewers_11_20_2020.ipynb",
   "provenance": []
  },
  "kernelspec": {
   "display_name": "Python 3",
   "language": "python",
   "name": "python3"
  },
  "language_info": {
   "codemirror_mode": {
    "name": "ipython",
    "version": 3
   },
   "file_extension": ".py",
   "mimetype": "text/x-python",
   "name": "python",
   "nbconvert_exporter": "python",
   "pygments_lexer": "ipython3",
   "version": "3.7.4"
  }
 },
 "nbformat": 4,
 "nbformat_minor": 1
}
